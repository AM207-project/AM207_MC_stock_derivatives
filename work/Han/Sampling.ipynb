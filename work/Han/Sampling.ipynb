{
 "cells": [
  {
   "cell_type": "markdown",
   "metadata": {},
   "source": [
    "### Sample from historical distributions"
   ]
  },
  {
   "cell_type": "code",
   "execution_count": 151,
   "metadata": {
    "collapsed": false
   },
   "outputs": [],
   "source": [
    "import pandas as pd\n",
    "import numpy as np\n",
    "import matplotlib.pyplot as plt\n",
    "from collections import OrderedDict\n",
    "%matplotlib inline"
   ]
  },
  {
   "cell_type": "code",
   "execution_count": 197,
   "metadata": {
    "collapsed": false
   },
   "outputs": [
    {
     "data": {
      "text/html": [
       "<div>\n",
       "<table border=\"1\" class=\"dataframe\">\n",
       "  <thead>\n",
       "    <tr style=\"text-align: right;\">\n",
       "      <th></th>\n",
       "      <th>Date</th>\n",
       "      <th>Open</th>\n",
       "      <th>High</th>\n",
       "      <th>Low</th>\n",
       "      <th>Close</th>\n",
       "      <th>Volume</th>\n",
       "    </tr>\n",
       "  </thead>\n",
       "  <tbody>\n",
       "    <tr>\n",
       "      <th>0</th>\n",
       "      <td>2005-01-03</td>\n",
       "      <td>98.80</td>\n",
       "      <td>101.92</td>\n",
       "      <td>97.83</td>\n",
       "      <td>101.46</td>\n",
       "      <td>15860692</td>\n",
       "    </tr>\n",
       "    <tr>\n",
       "      <th>1</th>\n",
       "      <td>2005-01-04</td>\n",
       "      <td>100.77</td>\n",
       "      <td>101.57</td>\n",
       "      <td>96.84</td>\n",
       "      <td>97.35</td>\n",
       "      <td>13762396</td>\n",
       "    </tr>\n",
       "    <tr>\n",
       "      <th>2</th>\n",
       "      <td>2005-01-05</td>\n",
       "      <td>96.82</td>\n",
       "      <td>98.55</td>\n",
       "      <td>96.21</td>\n",
       "      <td>96.85</td>\n",
       "      <td>8239545</td>\n",
       "    </tr>\n",
       "    <tr>\n",
       "      <th>3</th>\n",
       "      <td>2005-01-06</td>\n",
       "      <td>97.72</td>\n",
       "      <td>98.05</td>\n",
       "      <td>93.95</td>\n",
       "      <td>94.37</td>\n",
       "      <td>10389803</td>\n",
       "    </tr>\n",
       "    <tr>\n",
       "      <th>4</th>\n",
       "      <td>2005-01-07</td>\n",
       "      <td>95.42</td>\n",
       "      <td>97.22</td>\n",
       "      <td>94.48</td>\n",
       "      <td>97.02</td>\n",
       "      <td>9666175</td>\n",
       "    </tr>\n",
       "  </tbody>\n",
       "</table>\n",
       "</div>"
      ],
      "text/plain": [
       "         Date    Open    High    Low   Close    Volume\n",
       "0  2005-01-03   98.80  101.92  97.83  101.46  15860692\n",
       "1  2005-01-04  100.77  101.57  96.84   97.35  13762396\n",
       "2  2005-01-05   96.82   98.55  96.21   96.85   8239545\n",
       "3  2005-01-06   97.72   98.05  93.95   94.37  10389803\n",
       "4  2005-01-07   95.42   97.22  94.48   97.02   9666175"
      ]
     },
     "execution_count": 197,
     "metadata": {},
     "output_type": "execute_result"
    }
   ],
   "source": [
    "google = pd.read_csv('../../data/googl.csv')\n",
    "msft = pd.read_csv('../../data/msft.csv')\n",
    "jpm = pd.read_csv('../../data/jpm.csv')\n",
    "sp500 = pd.read_csv('../../data/sp500.csv')\n",
    "\n",
    "google.head()"
   ]
  },
  {
   "cell_type": "code",
   "execution_count": 198,
   "metadata": {
    "collapsed": false
   },
   "outputs": [],
   "source": [
    "r_g = google.Close.pct_change()[1:]\n",
    "r_m = msft.Close.pct_change()[1:]\n",
    "r_j = jpm.Close.pct_change()[1:]\n",
    "r_sp = sp500.Close.pct_change()[1:]"
   ]
  },
  {
   "cell_type": "code",
   "execution_count": 159,
   "metadata": {
    "collapsed": false
   },
   "outputs": [],
   "source": [
    "'''\n",
    "P: list of historical returns\n",
    "t_horizon: number of returns to sample\n",
    "n_iter: number of iterations\n",
    "'''\n",
    "def sample_historical(P, t_horizons, n_iter):\n",
    "    # sort list of historical returns\n",
    "    P = sorted(P,reverse=False)\n",
    "    \n",
    "    sample = np.zeros(t_horizons*n_iter).reshape((n_iter, t_horizons))\n",
    "    for i in range(n_iter):\n",
    "        sample_i = np.zeros(t_horizons)\n",
    "        \n",
    "        for t in range(t_horizons):  \n",
    "            # generate uniform samples in above range\n",
    "            R = np.random.uniform(0, 1)\n",
    "            sample_i[t] = P[int(len(P)*R)]\n",
    "                      \n",
    "        sample[i,] = sample_i\n",
    "            \n",
    "    return sample\n"
   ]
  },
  {
   "cell_type": "code",
   "execution_count": 203,
   "metadata": {
    "collapsed": false
   },
   "outputs": [],
   "source": [
    "# test\n",
    "sample = sample_historical(r_sp, 15, 20)\n",
    "np.save('test.npy', sample)"
   ]
  },
  {
   "cell_type": "code",
   "execution_count": 204,
   "metadata": {
    "collapsed": false
   },
   "outputs": [
    {
     "data": {
      "text/plain": [
       "array([[  1.69137399e-03,   8.19451183e-03,  -1.06450926e-03,\n",
       "          1.15004217e-03,   4.70655271e-02,   0.00000000e+00,\n",
       "         -1.43644097e-02,  -1.25496569e-02,   1.14354499e-02,\n",
       "         -2.38141524e-03,  -6.74940126e-03,   3.76247342e-03,\n",
       "         -5.04532913e-03,   1.06247344e-04,   7.94540084e-03],\n",
       "       [  7.03320484e-03,   9.31249494e-03,  -4.32061153e-03,\n",
       "         -3.33137370e-03,  -1.08790252e-04,   9.34243622e-04,\n",
       "          3.93371276e-03,  -1.89295039e-02,  -9.13475592e-03,\n",
       "          6.56712291e-03,  -3.91610248e-03,   5.77988915e-03,\n",
       "          1.22851868e-02,   9.53567492e-03,   1.39400022e-02],\n",
       "       [  2.36905951e-02,   1.16895963e-03,  -7.30994152e-04,\n",
       "          5.96094553e-02,  -4.62897023e-03,   2.19282216e-04,\n",
       "          5.41661094e-03,   1.06698281e-02,  -3.74623341e-03,\n",
       "          3.54386518e-03,   8.24917508e-03,   1.05226236e-03,\n",
       "          7.77934936e-04,   0.00000000e+00,   9.80488283e-04],\n",
       "       [  1.49190111e-03,  -1.40644303e-02,  -1.09765524e-02,\n",
       "         -2.01181128e-03,   2.05820410e-03,   1.58623635e-03,\n",
       "         -1.82190845e-03,  -6.07902736e-03,  -2.20387602e-02,\n",
       "          1.33113253e-03,   1.26292525e-03,   4.46245082e-03,\n",
       "         -3.14292449e-04,  -1.20345141e-02,   1.60933414e-03],\n",
       "       [  6.48388292e-04,   1.61371154e-02,   8.45514474e-03,\n",
       "         -3.95846853e-03,   3.43288706e-04,   4.41466299e-03,\n",
       "          3.56582513e-03,   5.45715653e-03,   0.00000000e+00,\n",
       "         -2.50174812e-02,  -8.01214472e-03,  -2.43170949e-04,\n",
       "          3.37227508e-03,  -6.45450471e-03,  -4.22947620e-03],\n",
       "       [ -8.18774694e-03,  -8.19316332e-03,   1.54898793e-02,\n",
       "         -1.15035414e-02,  -4.67707545e-03,   1.02219626e-03,\n",
       "         -2.71992540e-03,  -5.12382579e-04,  -5.89588726e-03,\n",
       "         -7.74683914e-03,  -9.12056948e-03,   1.54740942e-03,\n",
       "          2.02282158e-03,  -3.45034503e-03,   7.87215618e-04],\n",
       "       [  2.91243893e-03,   6.10966855e-03,   2.92462201e-02,\n",
       "          1.19581465e-02,   1.70724881e-02,   6.55577299e-03,\n",
       "         -1.20919881e-02,   6.85838046e-03,   3.09902803e-03,\n",
       "         -3.30568578e-03,   1.09438365e-02,  -7.72976733e-05,\n",
       "          1.77948718e-02,  -7.07982762e-03,  -2.89662377e-03],\n",
       "       [ -8.62859300e-04,   1.58557438e-02,   1.78175483e-02,\n",
       "          1.56067109e-03,  -2.76537939e-03,   1.04275783e-02,\n",
       "         -1.17593258e-03,  -1.57935088e-02,  -2.35147486e-02,\n",
       "          7.07914484e-04,  -3.62825895e-04,   5.64347933e-03,\n",
       "         -6.26891483e-03,  -1.21350019e-03,  -3.01063497e-02],\n",
       "       [  4.24259285e-03,  -5.36604063e-03,   1.24566903e-02,\n",
       "         -5.25926535e-03,  -6.40332640e-03,  -1.19739993e-03,\n",
       "         -4.29726997e-03,  -8.44367684e-03,   8.23723229e-03,\n",
       "          1.47183218e-02,   3.90625000e-03,   6.75994341e-03,\n",
       "          3.09799446e-03,   1.33926436e-03,   7.40143632e-03],\n",
       "       [  3.86368905e-04,  -6.09460489e-03,   4.94559842e-04,\n",
       "          6.61405487e-03,   1.71821306e-03,  -3.72104189e-03,\n",
       "          8.06829421e-03,   4.73559590e-03,  -1.21942096e-02,\n",
       "         -1.77542439e-02,   2.96757920e-03,   4.54020142e-03,\n",
       "         -5.37273338e-03,  -1.67772330e-02,   3.59292194e-03],\n",
       "       [  6.43857154e-03,   3.37707449e-03,   4.18060201e-04,\n",
       "         -8.62859300e-04,   3.60405666e-03,   4.85680790e-03,\n",
       "          5.92732583e-03,  -1.80596797e-02,   6.88750410e-03,\n",
       "         -1.67581624e-03,   5.55776102e-03,   9.24352953e-03,\n",
       "          1.52520400e-04,  -5.33282545e-03,  -8.01359883e-03],\n",
       "       [ -2.20593468e-03,  -1.16555661e-02,   2.34892163e-03,\n",
       "          8.86363636e-03,  -9.95520159e-04,  -9.71374538e-03,\n",
       "          1.41322781e-04,   2.30680507e-03,  -5.05393377e-03,\n",
       "         -2.39915501e-02,  -9.33155589e-03,  -1.47344802e-02,\n",
       "         -8.09061489e-03,   9.62695548e-05,   5.33845825e-03],\n",
       "       [  4.08073233e-03,   3.87086785e-03,   1.30529936e-02,\n",
       "          4.02460323e-03,   1.10914344e-02,   5.10995529e-03,\n",
       "          1.00955191e-03,   1.86567164e-03,  -8.80990355e-03,\n",
       "         -1.18220856e-02,   1.42288759e-02,  -6.24176434e-03,\n",
       "         -1.97889182e-03,  -3.39581635e-03,   1.10987791e-03],\n",
       "       [ -4.69540092e-03,   6.12651248e-04,   2.43524463e-03,\n",
       "          5.86986387e-03,  -1.36098509e-03,   7.60135135e-04,\n",
       "          1.51106946e-02,   6.73319124e-03,  -1.12131568e-02,\n",
       "          8.91096917e-03,   3.64228889e-03,   3.60405666e-03,\n",
       "         -1.40009782e-02,  -1.86622872e-03,  -5.12941454e-03],\n",
       "       [  5.79038796e-04,   6.70520231e-03,  -1.42194745e-02,\n",
       "         -3.26843825e-03,   1.39658220e-02,   1.86235503e-03,\n",
       "          6.87909043e-03,   1.23642704e-02,  -4.09581087e-03,\n",
       "          1.15283267e-03,  -2.83309050e-03,   1.11279334e-02,\n",
       "         -1.17401876e-02,   3.01204819e-02,  -3.03317536e-03],\n",
       "       [ -9.35143288e-03,   2.51218027e-03,   4.17500217e-03,\n",
       "         -5.41469256e-03,   3.80856568e-03,  -5.83279326e-03,\n",
       "         -8.80990355e-03,  -1.43180106e-03,   1.39429075e-03,\n",
       "         -1.15035414e-02,  -1.84501845e-03,   4.48430493e-03,\n",
       "          5.92548700e-04,  -1.90501044e-02,   6.37039284e-03],\n",
       "       [  6.81895670e-04,  -1.66417041e-03,   2.56122220e-02,\n",
       "         -1.18220856e-02,   2.95737304e-03,  -3.57607282e-03,\n",
       "          3.14440055e-03,   1.16598651e-03,   6.28869969e-03,\n",
       "          1.65733483e-02,  -1.98754472e-04,   6.34028892e-03,\n",
       "          4.48430493e-03,   5.56779246e-03,  -4.83726073e-04],\n",
       "       [ -3.76740377e-03,  -1.61894768e-02,  -1.64835165e-02,\n",
       "          1.40557862e-02,   2.06133372e-02,   8.72438863e-03,\n",
       "          3.61782602e-03,  -7.04126179e-04,   3.02749979e-03,\n",
       "         -4.63821892e-03,   1.02065226e-02,   3.02760463e-03,\n",
       "          5.06989565e-03,   1.08414084e-02,  -7.48689793e-03],\n",
       "       [  2.57106128e-03,   1.21034293e-02,  -1.65741278e-03,\n",
       "          7.77711307e-03,   3.45688496e-03,  -1.18281955e-03,\n",
       "         -1.30584192e-02,   1.51106946e-02,  -5.84538945e-04,\n",
       "          5.78943607e-03,  -8.73949580e-03,   1.42881156e-03,\n",
       "         -3.87096774e-03,  -3.14538677e-03,   1.78175483e-02],\n",
       "       [  8.24130542e-04,   3.37581230e-04,  -5.72432840e-03,\n",
       "         -1.14571319e-02,   1.41892553e-03,  -9.92145515e-03,\n",
       "         -1.09963905e-02,   4.85680790e-03,  -3.63901019e-03,\n",
       "          9.48466646e-04,  -9.01196133e-03,   1.06005075e-02,\n",
       "          1.34621793e-02,  -7.39986422e-03,   1.77651448e-03]])"
      ]
     },
     "execution_count": 204,
     "metadata": {},
     "output_type": "execute_result"
    }
   ],
   "source": [
    "np.load('test.npy')"
   ]
  },
  {
   "cell_type": "code",
   "execution_count": 194,
   "metadata": {
    "collapsed": false
   },
   "outputs": [
    {
     "data": {
      "text/plain": [
       "<matplotlib.legend.Legend at 0x112fd91d0>"
      ]
     },
     "execution_count": 194,
     "metadata": {},
     "output_type": "execute_result"
    },
    {
     "data": {
      "image/png": "[encoded data removed]",
      "text/plain": [
       "<matplotlib.figure.Figure at 0x112fd9250>"
      ]
     },
     "metadata": {},
     "output_type": "display_data"
    }
   ],
   "source": [
    "t_horizons=100\n",
    "n_iter = 200\n",
    "sample = sample_historical(r_g, t_horizons, n_iter).reshape(t_horizons*n_iter)\n",
    "plt.hist(sample, bins=80,  normed=1,color='b', alpha = 0.4, label = \"simulated returns\")\n",
    "plt.hist(r_g, bins=80,  normed=1, color='g', alpha = 0.4, label = \"true returns\")\n",
    "plt.axvline(np.mean(r_g), color=\"r\", label='True mean')\n",
    "plt.title('Histogram of True VS. Simulated Returns for Google')  \n",
    "plt.xlabel('returns')  \n",
    "plt.ylabel('frequency')  \n",
    "plt.legend() "
   ]
  },
  {
   "cell_type": "code",
   "execution_count": 195,
   "metadata": {
    "collapsed": false
   },
   "outputs": [
    {
     "data": {
      "text/plain": [
       "<matplotlib.legend.Legend at 0x115793ed0>"
      ]
     },
     "execution_count": 195,
     "metadata": {},
     "output_type": "execute_result"
    },
    {
     "data": {
      "image/png": "[encoded data removed]",
      "text/plain": [
       "<matplotlib.figure.Figure at 0x113602390>"
      ]
     },
     "metadata": {},
     "output_type": "display_data"
    }
   ],
   "source": [
    "t_horizons=100\n",
    "n_iter = 200\n",
    "sample = sample_historical(r_m, t_horizons, n_iter).reshape(t_horizons*n_iter)\n",
    "plt.hist(sample, bins=80,  normed=1,color='b', alpha = 0.4, label = \"simulated returns\")\n",
    "plt.hist(r_g, bins=80,  normed=1, color='g', alpha = 0.4, label = \"true returns\")\n",
    "plt.axvline(np.mean(r_m), color=\"r\", label='True mean')\n",
    "plt.title('Histogram of True VS. Simulated Returns for Microsoft')  \n",
    "plt.xlabel('returns')  \n",
    "plt.ylabel('frequency')  \n",
    "plt.legend() "
   ]
  },
  {
   "cell_type": "code",
   "execution_count": 196,
   "metadata": {
    "collapsed": false
   },
   "outputs": [
    {
     "data": {
      "text/plain": [
       "<matplotlib.legend.Legend at 0x113602c50>"
      ]
     },
     "execution_count": 196,
     "metadata": {},
     "output_type": "execute_result"
    },
    {
     "data": {
      "image/png": "[encoded data removed]",
      "text/plain": [
       "<matplotlib.figure.Figure at 0x113602cd0>"
      ]
     },
     "metadata": {},
     "output_type": "display_data"
    }
   ],
   "source": [
    "t_horizons=100\n",
    "n_iter = 200\n",
    "sample = sample_historical(r_j, t_horizons, n_iter).reshape(t_horizons*n_iter)\n",
    "plt.hist(sample, bins=80,  normed=1,color='b', alpha = 0.4, label = \"simulated returns\")\n",
    "plt.hist(r_g, bins=80,  normed=1, color='g', alpha = 0.4, label = \"true returns\")\n",
    "plt.axvline(np.mean(r_j), color=\"r\", label='True mean')\n",
    "plt.title('Histogram of True VS. Simulated Returns for J.P.Morgan')  \n",
    "plt.xlabel('returns')  \n",
    "plt.ylabel('frequency')  \n",
    "plt.legend() "
   ]
  },
  {
   "cell_type": "code",
   "execution_count": null,
   "metadata": {
    "collapsed": true
   },
   "outputs": [],
   "source": []
  }
 ],
 "metadata": {
  "kernelspec": {
   "display_name": "Python 2",
   "language": "python",
   "name": "python2"
  },
  "language_info": {
   "codemirror_mode": {
    "name": "ipython",
    "version": 2
   },
   "file_extension": ".py",
   "mimetype": "text/x-python",
   "name": "python",
   "nbconvert_exporter": "python",
   "pygments_lexer": "ipython2",
   "version": "2.7.11"
  }
 },
 "nbformat": 4,
 "nbformat_minor": 0
}
